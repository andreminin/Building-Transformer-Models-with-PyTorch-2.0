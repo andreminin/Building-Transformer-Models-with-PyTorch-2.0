{
 "cells": [
  {
   "cell_type": "markdown",
   "metadata": {
    "id": "ZfX9I4zwNdM9"
   },
   "source": [
    "# Import all Packages"
   ]
  },
  {
   "cell_type": "code",
   "execution_count": 2,
   "metadata": {},
   "outputs": [
    {
     "name": "stdout",
     "output_type": "stream",
     "text": [
      "Python: 3.12.11 (main, Jul 23 2025, 00:34:44) [Clang 20.1.4 ]\n",
      "PyTorch: 2.8.0+cu129\n",
      "Transformers: 4.56.0\n",
      "Loaded utils from: /mnt/nfs/workspace/courses/PyTorch/Building-Transformer-Models-with-PyTorch-2.0/utils.py\n",
      "Memory environment configured\n",
      "Selected device: cuda\n"
     ]
    }
   ],
   "source": [
    "import torch\n",
    "import gc\n",
    "import os\n",
    "import sys\n",
    "import subprocess\n",
    "import platform\n",
    "\n",
    "# Set environment variable to help with memory fragmentation\n",
    "os.environ['PYTORCH_CUDA_ALLOC_CONF'] = 'expandable_segments:True'\n",
    "\n",
    "# Environment & version checks\n",
    "# Import CUDA utils from parent folder (preferred), fallback to local\n",
    "from pathlib import Path\n",
    "\n",
    "print(f\"Python: {sys.version}\")\n",
    "try:\n",
    "    import torch, transformers\n",
    "    print(\"PyTorch:\", torch.__version__)\n",
    "    print(\"Transformers:\", transformers.__version__)\n",
    "except Exception as e:\n",
    "    print(\"You likely need to install torch/transformers:\", e)\n",
    "    \n",
    "# Try parent directory first (ideal location)\n",
    "parent_dir = str(Path.cwd().parent)\n",
    "if parent_dir not in sys.path:\n",
    "    sys.path.insert(0, parent_dir)\n",
    "\n",
    "try:\n",
    "    import utils  # expected at ../utils.py\n",
    "except Exception:\n",
    "    # Fallback: current working directory\n",
    "    curr_dir = str(Path.cwd())\n",
    "    if curr_dir not in sys.path:\n",
    "        sys.path.insert(0, curr_dir)\n",
    "    import utils  # tries ./utils.py\n",
    "\n",
    "from utils import *\n",
    "\n",
    "print(\"Loaded utils from:\", utils.__file__)\n",
    "# Set memory env & show current device\n",
    "utils.setup_memory_environment(expandable_segments=True)\n",
    "device = utils.get_device()\n",
    "print(\"Selected device:\", device)"
   ]
  },
  {
   "cell_type": "code",
   "execution_count": 3,
   "metadata": {
    "id": "vBzwpSkOtPAe"
   },
   "outputs": [],
   "source": [
    "import os\n",
    "import numpy as np\n",
    "import pandas as pd\n",
    "from PIL import Image\n",
    "import torch\n",
    "import torch.nn as nn\n",
    "import torch.optim as optim\n",
    "from torch.utils.data import Dataset, DataLoader\n",
    "from torchvision import transforms\n",
    "from sklearn.model_selection import train_test_split\n",
    "from tqdm import tqdm"
   ]
  },
  {
   "cell_type": "markdown",
   "metadata": {
    "id": "-hieKe9SfUWN"
   },
   "source": [
    "# Data Preparation\n",
    "1. We will be using the model `deit_base_patch16_224`\n",
    "  * This means all image need to be reshaped to (224,224)\n",
    "2. In training, we are using data augmentation process: `RandomHorizontalFlip`. \n",
    "  * It is optional step\n",
    "  *  It randomly flips an input image horizontally\n",
    "  * It  artificially increase the size and diversity of the training dataset\n",
    "3. We also normalizes the image `transforms.Normalize`\n",
    "  * This will reduce the scale of image\n",
    "  * It helps on Faster convergence, better generalization, and numercial stability\n"
   ]
  },
  {
   "cell_type": "code",
   "execution_count": 4,
   "metadata": {
    "id": "Onl2qdgttxX6"
   },
   "outputs": [],
   "source": [
    "# Please download the images from `https://www.kaggle.com/datasets/jr2ngb/cataractdataset` and place in your machine's directory\n",
    "DATA_DIR = \"dataset/\"\n",
    "CLASSES = [\"1_normal\", \"2_cataract\", \"2_glaucoma\", \"3_retina_disease\"]\n",
    "\n",
    "data = []\n",
    "for class_idx, class_name in enumerate(CLASSES):\n",
    "    class_dir = os.path.join(DATA_DIR, class_name)\n",
    "    for img_name in os.listdir(class_dir):\n",
    "        img_path = os.path.join(class_dir, img_name)\n",
    "        data.append([img_path, class_idx])\n",
    "\n",
    "df = pd.DataFrame(data, columns=[\"image_path\", \"label\"])\n",
    "train_df, test_df = train_test_split(df, test_size=0.2, random_state=42, stratify=df[\"label\"])\n",
    "\n",
    "train_transforms = transforms.Compose([\n",
    "    transforms.Resize((224, 224)),\n",
    "    transforms.RandomHorizontalFlip(),\n",
    "    transforms.ToTensor(),\n",
    "    transforms.Normalize(mean=[0.485, 0.456, 0.406], std=[0.229, 0.224, 0.225]),\n",
    "])\n",
    "\n",
    "test_transforms = transforms.Compose([\n",
    "    transforms.Resize((224, 224)),\n",
    "    transforms.ToTensor(),\n",
    "    transforms.Normalize(mean=[0.485, 0.456, 0.406], std=[0.229, 0.224, 0.225]),\n",
    "])\n",
    "\n",
    "class CataractDataset(Dataset):\n",
    "    def __init__(self, image_paths, labels, transform=None):\n",
    "        self.image_paths = image_paths\n",
    "        self.labels = labels\n",
    "        self.transform = transform\n",
    "\n",
    "    def __len__(self):\n",
    "        return len(self.image_paths)\n",
    "\n",
    "    def __getitem__(self, idx):\n",
    "        img_path = self.image_paths[idx]\n",
    "        label = self.labels[idx]\n",
    "        img = Image.open(img_path).convert(\"RGB\")\n",
    "\n",
    "        if self.transform:\n",
    "            img = self.transform(img)\n",
    "\n",
    "        return img, label\n",
    "\n",
    "train_dataset = CataractDataset(train_df[\"image_path\"].values, train_df[\"label\"].values, transform=train_transforms)\n",
    "test_dataset = CataractDataset(test_df[\"image_path\"].values, test_df[\"label\"].values, transform=test_transforms)\n",
    "\n",
    "train_loader = DataLoader(train_dataset, batch_size=4, shuffle=True)\n",
    "test_loader = DataLoader(test_dataset, batch_size=4, shuffle=False)\n",
    "\n"
   ]
  },
  {
   "cell_type": "markdown",
   "metadata": {
    "id": "-1253g1TPL6i"
   },
   "source": [
    "# Let's review our dataloader\n",
    "1. We are just viewing the image from train_dataloader\n",
    "2. There is one very important step:\n",
    "  * matplotlib need the image in [H, W, C]; where dataloader has image of shape [C, H,W]\n",
    "  * Thus, before plotting we are transposing so that the data is suitable for viewing for matplotlib"
   ]
  },
  {
   "cell_type": "code",
   "execution_count": 5,
   "metadata": {
    "colab": {
     "base_uri": "https://localhost:8080/",
     "height": 245
    },
    "id": "rD9vNXxBLM2g",
    "outputId": "8055b9de-99f0-4bdd-eb53-4dcd77b8f009"
   },
   "outputs": [
    {
     "data": {
      "image/png": "[encoded data removed]",
      "text/plain": [
       "<Figure size 1200x1200 with 4 Axes>"
      ]
     },
     "metadata": {},
     "output_type": "display_data"
    }
   ],
   "source": [
    "import torchvision.transforms as transforms\n",
    "import matplotlib.pyplot as plt\n",
    "import numpy as np\n",
    "\n",
    "data_iter = iter(train_loader)\n",
    "images, labels = next(data_iter)\n",
    "\n",
    "# Function to unnormalize and convert a tensor image to numpy array\n",
    "def imshow(img_tensor):\n",
    "    img = img_tensor.numpy()\n",
    "    # transposing\n",
    "    img = np.transpose(img, (1, 2, 0)) \n",
    "    mean = np.array([0.485, 0.456, 0.406])\n",
    "    std = np.array([0.229, 0.224, 0.225])\n",
    "    img = std * img + mean\n",
    "    img = np.clip(img, 0, 1)\n",
    "    return img\n",
    "\n",
    "# Display the images and their labels\n",
    "fig, axes = plt.subplots(1, len(images), figsize=(12, 12))\n",
    "\n",
    "for idx, (image, label) in enumerate(zip(images, labels)):\n",
    "    axes[idx].imshow(imshow(image))\n",
    "    axes[idx].set_title(f\"Label: {label.item()}\")\n",
    "    axes[idx].axis(\"off\")\n",
    "\n",
    "plt.show()\n"
   ]
  },
  {
   "cell_type": "markdown",
   "metadata": {
    "id": "ySxcYUlrQCyh"
   },
   "source": [
    "# Declare the model\n",
    "1. We are using the pre-trained model from timm\n",
    "2. If the image is color, \n",
    "  * in_chans=3;\n",
    "3. if image is graysclae, \n",
    "  * in_chans=3=1\n",
    "4. We need to declare, how many classes we have in out dataset: \n",
    "  * For our case, it was 4.\n",
    "  * num_classes=4\n",
    "5. `pretrained=True`\n",
    "  * We are mentioning that we want weight of pre-trained model. If you want to train from scratch, you could just mention \n",
    "    * pretrained=False"
   ]
  },
  {
   "cell_type": "code",
   "execution_count": 6,
   "metadata": {
    "colab": {
     "base_uri": "https://localhost:8080/"
    },
    "id": "48WE3Cmntu_M",
    "outputId": "6a9eea3d-2349-4dbd-f425-ca8d270fd41a"
   },
   "outputs": [
    {
     "data": {
      "application/vnd.jupyter.widget-view+json": {
       "model_id": "4d2b137fc1c144a19a97dd97ab51318c",
       "version_major": 2,
       "version_minor": 0
      },
      "text/plain": [
       "model.safetensors:   0%|          | 0.00/346M [00:00<?, ?B/s]"
      ]
     },
     "metadata": {},
     "output_type": "display_data"
    }
   ],
   "source": [
    "import timm\n",
    "import timm\n",
    "\n",
    "model = timm.create_model(\"deit_base_patch16_224\", pretrained=True)\n",
    "\n",
    "# Change the output size of the final linear layer to match the number of classes\n",
    "num_classes = 4\n",
    "model.head = torch.nn.Linear(model.head.in_features, num_classes)\n"
   ]
  },
  {
   "cell_type": "markdown",
   "metadata": {
    "id": "4o3rjbj4QLGT"
   },
   "source": [
    "# Declare the train and test loop\n",
    "1. In the below code: I am converting output and target into 'cpu'. Somehow my M1 chip is producing the problem. You may not encounter the problem. Thus, this is totally optional step."
   ]
  },
  {
   "cell_type": "code",
   "execution_count": 7,
   "metadata": {
    "id": "LiSLKNCqt48G"
   },
   "outputs": [],
   "source": [
    "def train(model, device, train_loader, optimizer, criterion, epoch, accelerator):\n",
    "    model.train()\n",
    "    running_loss = 0.0\n",
    "\n",
    "    for batch_idx, (data, target) in enumerate(tqdm(train_loader)):\n",
    "        data, target = data.to(device), target.to(device)\n",
    "        optimizer.zero_grad()\n",
    "        output = model(data)\n",
    "        loss = criterion(output, target)\n",
    "        accelerator.backward(loss)\n",
    "        optimizer.step()\n",
    "        running_loss += loss.item()\n",
    "\n",
    "    avg_loss = running_loss / len(train_loader)\n",
    "    print(f\"Epoch: {epoch}, Loss: {avg_loss:.4f}\")\n",
    "\n",
    "from sklearn.metrics import confusion_matrix, recall_score, precision_score\n",
    "\n",
    "def test(model, device, test_loader, criterion, accelerator):\n",
    "    model.eval()\n",
    "    test_loss = 0\n",
    "    correct = 0\n",
    "    all_preds = []\n",
    "    all_targets = []\n",
    "    \n",
    "    with torch.no_grad():\n",
    "        for data, target in test_loader:\n",
    "            data, target = data.to(device), target.to(device)\n",
    "            output = model(data)\n",
    "            test_loss += criterion(output, target).item()\n",
    "            output_cpu = output.to('cpu')\n",
    "            target_cpu=target.to('cpu')\n",
    "            pred = output_cpu.argmax(dim=1, keepdim=True)\n",
    "            correct += pred.eq(target_cpu.view_as(pred)).sum().item()\n",
    "            \n",
    "            all_preds.extend(pred.flatten().tolist())\n",
    "            all_targets.extend(target.flatten().tolist())\n",
    "\n",
    "    test_loss /= len(test_loader)\n",
    "    accuracy = 100. * correct / len(test_loader.dataset)\n",
    "    print(f\"Test Loss: {test_loss:.4f}, Accuracy: {accuracy:.2f}%\")\n",
    "    \n",
    "    # Calculate confusion matrix, sensitivity (recall), and specificity\n",
    "    cm = confusion_matrix(all_targets, all_preds)\n",
    "    sensitivity = recall_score(all_targets, all_preds, average=None)\n",
    "    specificity = (cm.sum(axis=0) - cm.diagonal()) / cm.sum(axis=0)\n",
    "    \n",
    "    for i, (sens, spec) in enumerate(zip(sensitivity, specificity)):\n",
    "        print(f\"Class {i}: Sensitivity (Recall): {sens:.4f}, Specificity: {spec:.4f}\")\n",
    "\n"
   ]
  },
  {
   "cell_type": "code",
   "execution_count": 8,
   "metadata": {
    "id": "nTzHALszt_0I"
   },
   "outputs": [],
   "source": [
    "from accelerate import Accelerator\n",
    "from torch.optim import Adam\n",
    "\n",
    "accelerator = Accelerator()\n",
    "device = accelerator.device\n",
    "learning_rate = 1e-4\n",
    "\n",
    "optimizer = Adam(model.parameters(), lr=learning_rate)\n",
    "criterion = nn.CrossEntropyLoss()\n",
    "\n",
    "train_loader, test_loader = accelerator.prepare(train_loader, test_loader)\n",
    "model, optimizer, criterion = accelerator.prepare(model, optimizer, criterion)\n",
    "\n",
    "\n",
    "\n"
   ]
  },
  {
   "cell_type": "code",
   "execution_count": 10,
   "metadata": {
    "colab": {
     "base_uri": "https://localhost:8080/"
    },
    "id": "M26lZZr66wWE",
    "outputId": "b8605452-3198-4123-9dea-d3b487c35952"
   },
   "outputs": [
    {
     "name": "stdout",
     "output_type": "stream",
     "text": [
      "GPU memory cleared\n"
     ]
    },
    {
     "name": "stderr",
     "output_type": "stream",
     "text": [
      "100%|█████████████████████████████████████████████████████████████████████████████| 112/112 [00:30<00:00,  3.62it/s]\n"
     ]
    },
    {
     "name": "stdout",
     "output_type": "stream",
     "text": [
      "Epoch: 1, Loss: 1.0172\n"
     ]
    },
    {
     "name": "stderr",
     "output_type": "stream",
     "text": [
      "/tmp/ipykernel_3149/263114855.py:46: RuntimeWarning: invalid value encountered in divide\n",
      "  specificity = (cm.sum(axis=0) - cm.diagonal()) / cm.sum(axis=0)\n"
     ]
    },
    {
     "name": "stdout",
     "output_type": "stream",
     "text": [
      "Test Loss: 0.8525, Accuracy: 66.07%\n",
      "Class 0: Sensitivity (Recall): 0.9667, Specificity: 0.3483\n",
      "Class 1: Sensitivity (Recall): 0.6500, Specificity: 0.1875\n",
      "Class 2: Sensitivity (Recall): 0.1500, Specificity: 0.5714\n",
      "Class 3: Sensitivity (Recall): 0.0000, Specificity: nan\n",
      "GPU memory cleared\n"
     ]
    },
    {
     "name": "stderr",
     "output_type": "stream",
     "text": [
      "100%|█████████████████████████████████████████████████████████████████████████████| 112/112 [00:32<00:00,  3.43it/s]\n"
     ]
    },
    {
     "name": "stdout",
     "output_type": "stream",
     "text": [
      "Epoch: 2, Loss: 1.0293\n"
     ]
    },
    {
     "name": "stderr",
     "output_type": "stream",
     "text": [
      "/tmp/ipykernel_3149/263114855.py:46: RuntimeWarning: invalid value encountered in divide\n",
      "  specificity = (cm.sum(axis=0) - cm.diagonal()) / cm.sum(axis=0)\n"
     ]
    },
    {
     "name": "stdout",
     "output_type": "stream",
     "text": [
      "Test Loss: 1.0007, Accuracy: 61.61%\n",
      "Class 0: Sensitivity (Recall): 0.6333, Specificity: 0.2400\n",
      "Class 1: Sensitivity (Recall): 0.6000, Specificity: 0.0000\n",
      "Class 2: Sensitivity (Recall): 0.9500, Specificity: 0.6200\n",
      "Class 3: Sensitivity (Recall): 0.0000, Specificity: nan\n",
      "GPU memory cleared\n"
     ]
    },
    {
     "name": "stderr",
     "output_type": "stream",
     "text": [
      "100%|█████████████████████████████████████████████████████████████████████████████| 112/112 [00:32<00:00,  3.49it/s]\n"
     ]
    },
    {
     "name": "stdout",
     "output_type": "stream",
     "text": [
      "Epoch: 3, Loss: 0.8605\n"
     ]
    },
    {
     "name": "stderr",
     "output_type": "stream",
     "text": [
      "/tmp/ipykernel_3149/263114855.py:46: RuntimeWarning: invalid value encountered in divide\n",
      "  specificity = (cm.sum(axis=0) - cm.diagonal()) / cm.sum(axis=0)\n"
     ]
    },
    {
     "name": "stdout",
     "output_type": "stream",
     "text": [
      "Test Loss: 0.8881, Accuracy: 65.18%\n",
      "Class 0: Sensitivity (Recall): 0.8667, Specificity: 0.3247\n",
      "Class 1: Sensitivity (Recall): 0.9000, Specificity: 0.3793\n",
      "Class 2: Sensitivity (Recall): 0.1500, Specificity: 0.5000\n",
      "Class 3: Sensitivity (Recall): 0.0000, Specificity: nan\n",
      "GPU memory cleared\n"
     ]
    },
    {
     "name": "stderr",
     "output_type": "stream",
     "text": [
      "100%|█████████████████████████████████████████████████████████████████████████████| 112/112 [00:32<00:00,  3.45it/s]\n"
     ]
    },
    {
     "name": "stdout",
     "output_type": "stream",
     "text": [
      "Epoch: 4, Loss: 0.7759\n"
     ]
    },
    {
     "name": "stderr",
     "output_type": "stream",
     "text": [
      "/tmp/ipykernel_3149/263114855.py:46: RuntimeWarning: invalid value encountered in divide\n",
      "  specificity = (cm.sum(axis=0) - cm.diagonal()) / cm.sum(axis=0)\n"
     ]
    },
    {
     "name": "stdout",
     "output_type": "stream",
     "text": [
      "Test Loss: 0.8106, Accuracy: 66.96%\n",
      "Class 0: Sensitivity (Recall): 0.9167, Specificity: 0.3452\n",
      "Class 1: Sensitivity (Recall): 0.7500, Specificity: 0.2857\n",
      "Class 2: Sensitivity (Recall): 0.2500, Specificity: 0.2857\n",
      "Class 3: Sensitivity (Recall): 0.0000, Specificity: nan\n",
      "GPU memory cleared\n"
     ]
    },
    {
     "name": "stderr",
     "output_type": "stream",
     "text": [
      "100%|█████████████████████████████████████████████████████████████████████████████| 112/112 [00:32<00:00,  3.42it/s]\n"
     ]
    },
    {
     "name": "stdout",
     "output_type": "stream",
     "text": [
      "Epoch: 5, Loss: 0.7217\n",
      "Test Loss: 0.8485, Accuracy: 65.18%\n",
      "Class 0: Sensitivity (Recall): 0.7833, Specificity: 0.3088\n",
      "Class 1: Sensitivity (Recall): 0.9000, Specificity: 0.3793\n",
      "Class 2: Sensitivity (Recall): 0.3500, Specificity: 0.5000\n",
      "Class 3: Sensitivity (Recall): 0.0833, Specificity: 0.0000\n",
      "GPU memory cleared\n"
     ]
    },
    {
     "name": "stderr",
     "output_type": "stream",
     "text": [
      "100%|█████████████████████████████████████████████████████████████████████████████| 112/112 [00:33<00:00,  3.37it/s]\n"
     ]
    },
    {
     "name": "stdout",
     "output_type": "stream",
     "text": [
      "Epoch: 6, Loss: 0.6689\n",
      "Test Loss: 0.8816, Accuracy: 64.29%\n",
      "Class 0: Sensitivity (Recall): 0.8500, Specificity: 0.3462\n",
      "Class 1: Sensitivity (Recall): 0.7500, Specificity: 0.2500\n",
      "Class 2: Sensitivity (Recall): 0.2500, Specificity: 0.5000\n",
      "Class 3: Sensitivity (Recall): 0.0833, Specificity: 0.7500\n",
      "GPU memory cleared\n"
     ]
    },
    {
     "name": "stderr",
     "output_type": "stream",
     "text": [
      "100%|█████████████████████████████████████████████████████████████████████████████| 112/112 [00:33<00:00,  3.35it/s]\n"
     ]
    },
    {
     "name": "stdout",
     "output_type": "stream",
     "text": [
      "Epoch: 7, Loss: 0.5831\n"
     ]
    },
    {
     "name": "stderr",
     "output_type": "stream",
     "text": [
      "/tmp/ipykernel_3149/263114855.py:46: RuntimeWarning: invalid value encountered in divide\n",
      "  specificity = (cm.sum(axis=0) - cm.diagonal()) / cm.sum(axis=0)\n"
     ]
    },
    {
     "name": "stdout",
     "output_type": "stream",
     "text": [
      "Test Loss: 0.8618, Accuracy: 67.86%\n",
      "Class 0: Sensitivity (Recall): 0.8667, Specificity: 0.2877\n",
      "Class 1: Sensitivity (Recall): 0.7000, Specificity: 0.1765\n",
      "Class 2: Sensitivity (Recall): 0.5000, Specificity: 0.5455\n",
      "Class 3: Sensitivity (Recall): 0.0000, Specificity: nan\n",
      "GPU memory cleared\n"
     ]
    },
    {
     "name": "stderr",
     "output_type": "stream",
     "text": [
      "100%|█████████████████████████████████████████████████████████████████████████████| 112/112 [00:33<00:00,  3.35it/s]\n"
     ]
    },
    {
     "name": "stdout",
     "output_type": "stream",
     "text": [
      "Epoch: 8, Loss: 0.5600\n",
      "Test Loss: 0.9849, Accuracy: 61.61%\n",
      "Class 0: Sensitivity (Recall): 0.6333, Specificity: 0.2400\n",
      "Class 1: Sensitivity (Recall): 0.9000, Specificity: 0.4857\n",
      "Class 2: Sensitivity (Recall): 0.6500, Specificity: 0.5000\n",
      "Class 3: Sensitivity (Recall): 0.0000, Specificity: 1.0000\n",
      "GPU memory cleared\n"
     ]
    },
    {
     "name": "stderr",
     "output_type": "stream",
     "text": [
      "100%|█████████████████████████████████████████████████████████████████████████████| 112/112 [00:33<00:00,  3.35it/s]\n"
     ]
    },
    {
     "name": "stdout",
     "output_type": "stream",
     "text": [
      "Epoch: 9, Loss: 0.4679\n",
      "Test Loss: 0.8295, Accuracy: 75.00%\n",
      "Class 0: Sensitivity (Recall): 0.8333, Specificity: 0.2188\n",
      "Class 1: Sensitivity (Recall): 0.7500, Specificity: 0.1176\n",
      "Class 2: Sensitivity (Recall): 0.7500, Specificity: 0.3478\n",
      "Class 3: Sensitivity (Recall): 0.3333, Specificity: 0.5000\n",
      "GPU memory cleared\n"
     ]
    },
    {
     "name": "stderr",
     "output_type": "stream",
     "text": [
      "100%|█████████████████████████████████████████████████████████████████████████████| 112/112 [00:33<00:00,  3.33it/s]\n"
     ]
    },
    {
     "name": "stdout",
     "output_type": "stream",
     "text": [
      "Epoch: 10, Loss: 0.4070\n",
      "Test Loss: 1.2277, Accuracy: 58.93%\n",
      "Class 0: Sensitivity (Recall): 0.5667, Specificity: 0.2273\n",
      "Class 1: Sensitivity (Recall): 0.9000, Specificity: 0.4000\n",
      "Class 2: Sensitivity (Recall): 0.6500, Specificity: 0.5806\n",
      "Class 3: Sensitivity (Recall): 0.0833, Specificity: 0.8571\n",
      "GPU memory cleared\n"
     ]
    }
   ],
   "source": [
    "full_cleanup()\n",
    "\n",
    "num_epochs = 10\n",
    "for epoch in range(1, num_epochs + 1):\n",
    "    train(model, device, train_loader, optimizer, criterion, epoch, accelerator)\n",
    "    test(model, device, test_loader, criterion, accelerator)\n",
    "    # Clean up after epoch\n",
    "    clear_gpu_memory()"
   ]
  },
  {
   "cell_type": "markdown",
   "metadata": {
    "id": "OmuIiGVBQtsM"
   },
   "source": [
    "# Analysis:\n",
    "1. The loss is decreasing. We need more epoch."
   ]
  },
  {
   "cell_type": "markdown",
   "metadata": {
    "id": "QBFg68058yBc"
   },
   "source": [
    "# Resnet-50"
   ]
  },
  {
   "cell_type": "code",
   "execution_count": 11,
   "metadata": {
    "id": "1ZSTQVQn9r2U"
   },
   "outputs": [],
   "source": [
    "import os\n",
    "import numpy as np\n",
    "import pandas as pd\n",
    "from PIL import Image\n",
    "import torch\n",
    "import torch.nn as nn\n",
    "import torch.optim as optim\n",
    "from torch.utils.data import Dataset, DataLoader\n",
    "from torchvision import transforms\n",
    "from sklearn.model_selection import train_test_split\n",
    "from tqdm import tqdm"
   ]
  },
  {
   "cell_type": "code",
   "execution_count": 12,
   "metadata": {
    "id": "kr7E1x71HAgW"
   },
   "outputs": [],
   "source": [
    "# Load ResNet-50 model\n",
    "resnet_model = timm.create_model(\"resnet50\", pretrained=True)\n",
    "\n",
    "# Change the output size of the final linear layer for ResNet-50 to match the number of classes\n",
    "resnet_model.fc = torch.nn.Linear(resnet_model.fc.in_features, num_classes)"
   ]
  },
  {
   "cell_type": "code",
   "execution_count": 13,
   "metadata": {
    "id": "P0-lzN_B95sB"
   },
   "outputs": [],
   "source": [
    "from accelerate import Accelerator\n",
    "from torch.optim import Adam\n",
    "\n",
    "accelerator = Accelerator()\n",
    "device = accelerator.device\n",
    "learning_rate = 1e-4\n",
    "\n",
    "optimizer = Adam(model.parameters(), lr=learning_rate)\n",
    "criterion = nn.CrossEntropyLoss()\n",
    "\n",
    "train_loader, test_loader = accelerator.prepare(train_loader, test_loader)\n",
    "resnet_model, optimizer, criterion = accelerator.prepare(resnet_model, optimizer, criterion)"
   ]
  },
  {
   "cell_type": "code",
   "execution_count": 14,
   "metadata": {
    "colab": {
     "base_uri": "https://localhost:8080/"
    },
    "id": "SUQOcN-Z-NGQ",
    "outputId": "40029c5b-9596-486c-be18-cb7695bda577"
   },
   "outputs": [
    {
     "name": "stdout",
     "output_type": "stream",
     "text": [
      "GPU memory cleared\n"
     ]
    },
    {
     "name": "stderr",
     "output_type": "stream",
     "text": [
      "100%|█████████████████████████████████████████████████████████████████████████████| 112/112 [00:28<00:00,  3.92it/s]\n"
     ]
    },
    {
     "name": "stdout",
     "output_type": "stream",
     "text": [
      "Epoch: 1, Loss: 1.4178\n"
     ]
    },
    {
     "name": "stderr",
     "output_type": "stream",
     "text": [
      "/tmp/ipykernel_3149/263114855.py:46: RuntimeWarning: invalid value encountered in divide\n",
      "  specificity = (cm.sum(axis=0) - cm.diagonal()) / cm.sum(axis=0)\n"
     ]
    },
    {
     "name": "stdout",
     "output_type": "stream",
     "text": [
      "Test Loss: 1.3613, Accuracy: 26.79%\n",
      "Class 0: Sensitivity (Recall): 0.0000, Specificity: nan\n",
      "Class 1: Sensitivity (Recall): 0.9000, Specificity: 0.7353\n",
      "Class 2: Sensitivity (Recall): 0.6000, Specificity: 0.6757\n",
      "Class 3: Sensitivity (Recall): 0.0000, Specificity: 1.0000\n",
      "GPU memory cleared\n"
     ]
    },
    {
     "name": "stderr",
     "output_type": "stream",
     "text": [
      "100%|█████████████████████████████████████████████████████████████████████████████| 112/112 [00:29<00:00,  3.76it/s]\n"
     ]
    },
    {
     "name": "stdout",
     "output_type": "stream",
     "text": [
      "Epoch: 2, Loss: 1.4171\n"
     ]
    },
    {
     "name": "stderr",
     "output_type": "stream",
     "text": [
      "/tmp/ipykernel_3149/263114855.py:46: RuntimeWarning: invalid value encountered in divide\n",
      "  specificity = (cm.sum(axis=0) - cm.diagonal()) / cm.sum(axis=0)\n"
     ]
    },
    {
     "name": "stdout",
     "output_type": "stream",
     "text": [
      "Test Loss: 1.3874, Accuracy: 23.21%\n",
      "Class 0: Sensitivity (Recall): 0.0000, Specificity: nan\n",
      "Class 1: Sensitivity (Recall): 0.7500, Specificity: 0.7826\n",
      "Class 2: Sensitivity (Recall): 0.4500, Specificity: 0.7353\n",
      "Class 3: Sensitivity (Recall): 0.1667, Specificity: 0.7778\n",
      "GPU memory cleared\n"
     ]
    },
    {
     "name": "stderr",
     "output_type": "stream",
     "text": [
      "100%|█████████████████████████████████████████████████████████████████████████████| 112/112 [00:29<00:00,  3.74it/s]\n"
     ]
    },
    {
     "name": "stdout",
     "output_type": "stream",
     "text": [
      "Epoch: 3, Loss: 1.4190\n"
     ]
    },
    {
     "name": "stderr",
     "output_type": "stream",
     "text": [
      "/tmp/ipykernel_3149/263114855.py:46: RuntimeWarning: invalid value encountered in divide\n",
      "  specificity = (cm.sum(axis=0) - cm.diagonal()) / cm.sum(axis=0)\n"
     ]
    },
    {
     "name": "stdout",
     "output_type": "stream",
     "text": [
      "Test Loss: 1.3848, Accuracy: 22.32%\n",
      "Class 0: Sensitivity (Recall): 0.0000, Specificity: nan\n",
      "Class 1: Sensitivity (Recall): 0.8500, Specificity: 0.7500\n",
      "Class 2: Sensitivity (Recall): 0.4000, Specificity: 0.7576\n",
      "Class 3: Sensitivity (Recall): 0.0000, Specificity: 1.0000\n",
      "GPU memory cleared\n"
     ]
    },
    {
     "name": "stderr",
     "output_type": "stream",
     "text": [
      "100%|█████████████████████████████████████████████████████████████████████████████| 112/112 [00:29<00:00,  3.73it/s]\n"
     ]
    },
    {
     "name": "stdout",
     "output_type": "stream",
     "text": [
      "Epoch: 4, Loss: 1.4176\n"
     ]
    },
    {
     "name": "stderr",
     "output_type": "stream",
     "text": [
      "/tmp/ipykernel_3149/263114855.py:46: RuntimeWarning: invalid value encountered in divide\n",
      "  specificity = (cm.sum(axis=0) - cm.diagonal()) / cm.sum(axis=0)\n"
     ]
    },
    {
     "name": "stdout",
     "output_type": "stream",
     "text": [
      "Test Loss: 1.3607, Accuracy: 26.79%\n",
      "Class 0: Sensitivity (Recall): 0.0000, Specificity: nan\n",
      "Class 1: Sensitivity (Recall): 0.9500, Specificity: 0.7077\n",
      "Class 2: Sensitivity (Recall): 0.5000, Specificity: 0.7297\n",
      "Class 3: Sensitivity (Recall): 0.0833, Specificity: 0.9000\n",
      "GPU memory cleared\n"
     ]
    },
    {
     "name": "stderr",
     "output_type": "stream",
     "text": [
      "100%|█████████████████████████████████████████████████████████████████████████████| 112/112 [00:30<00:00,  3.73it/s]\n"
     ]
    },
    {
     "name": "stdout",
     "output_type": "stream",
     "text": [
      "Epoch: 5, Loss: 1.4207\n"
     ]
    },
    {
     "name": "stderr",
     "output_type": "stream",
     "text": [
      "/tmp/ipykernel_3149/263114855.py:46: RuntimeWarning: invalid value encountered in divide\n",
      "  specificity = (cm.sum(axis=0) - cm.diagonal()) / cm.sum(axis=0)\n"
     ]
    },
    {
     "name": "stdout",
     "output_type": "stream",
     "text": [
      "Test Loss: 1.3689, Accuracy: 24.11%\n",
      "Class 0: Sensitivity (Recall): 0.0000, Specificity: nan\n",
      "Class 1: Sensitivity (Recall): 0.8000, Specificity: 0.7681\n",
      "Class 2: Sensitivity (Recall): 0.5000, Specificity: 0.7222\n",
      "Class 3: Sensitivity (Recall): 0.0833, Specificity: 0.8571\n",
      "GPU memory cleared\n"
     ]
    },
    {
     "name": "stderr",
     "output_type": "stream",
     "text": [
      "100%|█████████████████████████████████████████████████████████████████████████████| 112/112 [00:29<00:00,  3.74it/s]\n"
     ]
    },
    {
     "name": "stdout",
     "output_type": "stream",
     "text": [
      "Epoch: 6, Loss: 1.4169\n"
     ]
    },
    {
     "name": "stderr",
     "output_type": "stream",
     "text": [
      "/tmp/ipykernel_3149/263114855.py:46: RuntimeWarning: invalid value encountered in divide\n",
      "  specificity = (cm.sum(axis=0) - cm.diagonal()) / cm.sum(axis=0)\n"
     ]
    },
    {
     "name": "stdout",
     "output_type": "stream",
     "text": [
      "Test Loss: 1.3830, Accuracy: 22.32%\n",
      "Class 0: Sensitivity (Recall): 0.0000, Specificity: nan\n",
      "Class 1: Sensitivity (Recall): 0.8000, Specificity: 0.7576\n",
      "Class 2: Sensitivity (Recall): 0.4500, Specificity: 0.7750\n",
      "Class 3: Sensitivity (Recall): 0.0000, Specificity: 1.0000\n",
      "GPU memory cleared\n"
     ]
    },
    {
     "name": "stderr",
     "output_type": "stream",
     "text": [
      "100%|█████████████████████████████████████████████████████████████████████████████| 112/112 [00:30<00:00,  3.72it/s]\n"
     ]
    },
    {
     "name": "stdout",
     "output_type": "stream",
     "text": [
      "Epoch: 7, Loss: 1.4195\n",
      "Test Loss: 1.3866, Accuracy: 20.54%\n",
      "Class 0: Sensitivity (Recall): 0.0000, Specificity: 1.0000\n",
      "Class 1: Sensitivity (Recall): 0.7500, Specificity: 0.7887\n",
      "Class 2: Sensitivity (Recall): 0.4000, Specificity: 0.7419\n",
      "Class 3: Sensitivity (Recall): 0.0000, Specificity: 1.0000\n",
      "GPU memory cleared\n"
     ]
    },
    {
     "name": "stderr",
     "output_type": "stream",
     "text": [
      "100%|█████████████████████████████████████████████████████████████████████████████| 112/112 [00:29<00:00,  3.78it/s]\n"
     ]
    },
    {
     "name": "stdout",
     "output_type": "stream",
     "text": [
      "Epoch: 8, Loss: 1.4182\n",
      "Test Loss: 1.3547, Accuracy: 21.43%\n",
      "Class 0: Sensitivity (Recall): 0.0000, Specificity: 1.0000\n",
      "Class 1: Sensitivity (Recall): 0.6000, Specificity: 0.7966\n",
      "Class 2: Sensitivity (Recall): 0.4500, Specificity: 0.7907\n",
      "Class 3: Sensitivity (Recall): 0.2500, Specificity: 0.6667\n",
      "GPU memory cleared\n"
     ]
    },
    {
     "name": "stderr",
     "output_type": "stream",
     "text": [
      "100%|█████████████████████████████████████████████████████████████████████████████| 112/112 [00:28<00:00,  3.90it/s]\n"
     ]
    },
    {
     "name": "stdout",
     "output_type": "stream",
     "text": [
      "Epoch: 9, Loss: 1.4169\n"
     ]
    },
    {
     "name": "stderr",
     "output_type": "stream",
     "text": [
      "/tmp/ipykernel_3149/263114855.py:46: RuntimeWarning: invalid value encountered in divide\n",
      "  specificity = (cm.sum(axis=0) - cm.diagonal()) / cm.sum(axis=0)\n"
     ]
    },
    {
     "name": "stdout",
     "output_type": "stream",
     "text": [
      "Test Loss: 1.3695, Accuracy: 22.32%\n",
      "Class 0: Sensitivity (Recall): 0.0000, Specificity: nan\n",
      "Class 1: Sensitivity (Recall): 0.7000, Specificity: 0.7627\n",
      "Class 2: Sensitivity (Recall): 0.5000, Specificity: 0.7778\n",
      "Class 3: Sensitivity (Recall): 0.0833, Specificity: 0.8750\n",
      "GPU memory cleared\n"
     ]
    },
    {
     "name": "stderr",
     "output_type": "stream",
     "text": [
      "100%|█████████████████████████████████████████████████████████████████████████████| 112/112 [00:28<00:00,  3.87it/s]\n"
     ]
    },
    {
     "name": "stdout",
     "output_type": "stream",
     "text": [
      "Epoch: 10, Loss: 1.4168\n",
      "Test Loss: 1.3689, Accuracy: 23.21%\n",
      "Class 0: Sensitivity (Recall): 0.0000, Specificity: nan\n",
      "Class 1: Sensitivity (Recall): 0.8000, Specificity: 0.7612\n",
      "Class 2: Sensitivity (Recall): 0.5000, Specificity: 0.7561\n",
      "Class 3: Sensitivity (Recall): 0.0000, Specificity: 1.0000\n",
      "GPU memory cleared\n"
     ]
    },
    {
     "name": "stderr",
     "output_type": "stream",
     "text": [
      "/tmp/ipykernel_3149/263114855.py:46: RuntimeWarning: invalid value encountered in divide\n",
      "  specificity = (cm.sum(axis=0) - cm.diagonal()) / cm.sum(axis=0)\n"
     ]
    }
   ],
   "source": [
    "full_cleanup()\n",
    "\n",
    "num_epochs = 10\n",
    "for epoch in range(1, num_epochs + 1):\n",
    "    train(resnet_model, device, train_loader, optimizer, criterion, epoch, accelerator)\n",
    "    test(resnet_model, device, test_loader, criterion, accelerator)\n",
    "    # Clean up after epoch\n",
    "    clear_gpu_memory()"
   ]
  },
  {
   "cell_type": "code",
   "execution_count": null,
   "metadata": {
    "id": "mgI453VF-Uyp"
   },
   "outputs": [],
   "source": []
  }
 ],
 "metadata": {
  "colab": {
   "provenance": []
  },
  "kernelspec": {
   "display_name": "Python 3 (ipykernel)",
   "language": "python",
   "name": "python3"
  },
  "language_info": {
   "codemirror_mode": {
    "name": "ipython",
    "version": 3
   },
   "file_extension": ".py",
   "mimetype": "text/x-python",
   "name": "python",
   "nbconvert_exporter": "python",
   "pygments_lexer": "ipython3",
   "version": "3.12.11"
  }
 },
 "nbformat": 4,
 "nbformat_minor": 4
}
